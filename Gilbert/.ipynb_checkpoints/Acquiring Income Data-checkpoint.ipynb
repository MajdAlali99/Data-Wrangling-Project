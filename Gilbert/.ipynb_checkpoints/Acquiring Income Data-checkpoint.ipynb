{
 "cells": [
  {
   "cell_type": "code",
   "execution_count": 1,
   "id": "e4c87855",
   "metadata": {},
   "outputs": [
    {
     "ename": "ModuleNotFoundError",
     "evalue": "No module named 'pandas'",
     "output_type": "error",
     "traceback": [
      "\u001b[0;31m---------------------------------------------------------------------------\u001b[0m",
      "\u001b[0;31mModuleNotFoundError\u001b[0m                       Traceback (most recent call last)",
      "\u001b[0;32m/tmp/ipykernel_4150/3768708342.py\u001b[0m in \u001b[0;36m<module>\u001b[0;34m\u001b[0m\n\u001b[0;32m----> 1\u001b[0;31m \u001b[0;32mimport\u001b[0m \u001b[0mpandas\u001b[0m \u001b[0;32mas\u001b[0m \u001b[0mpd\u001b[0m\u001b[0;34m\u001b[0m\u001b[0;34m\u001b[0m\u001b[0m\n\u001b[0m\u001b[1;32m      2\u001b[0m \u001b[0;32mimport\u001b[0m \u001b[0mnumpy\u001b[0m \u001b[0;32mas\u001b[0m \u001b[0mnp\u001b[0m\u001b[0;34m\u001b[0m\u001b[0;34m\u001b[0m\u001b[0m\n\u001b[1;32m      3\u001b[0m \u001b[0mget_ipython\u001b[0m\u001b[0;34m(\u001b[0m\u001b[0;34m)\u001b[0m\u001b[0;34m.\u001b[0m\u001b[0msystem\u001b[0m\u001b[0;34m(\u001b[0m\u001b[0;34m'pip install html5lib'\u001b[0m\u001b[0;34m)\u001b[0m\u001b[0;34m\u001b[0m\u001b[0;34m\u001b[0m\u001b[0m\n",
      "\u001b[0;31mModuleNotFoundError\u001b[0m: No module named 'pandas'"
     ]
    }
   ],
   "source": [
    "import pandas as pd\n",
    "import numpy as np"
   ]
  },
  {
   "cell_type": "markdown",
   "id": "8c5f1a31",
   "metadata": {},
   "source": [
    "<h2> Aqcquiring Data</h2>"
   ]
  },
  {
   "cell_type": "code",
   "execution_count": null,
   "id": "ce969e59",
   "metadata": {},
   "outputs": [],
   "source": [
    "df = pd.read_csv('per_state_data.csv', skiprows=3)\n",
    "spending_df = pd.read_csv('Final-GDP-dataset.csv')"
   ]
  },
  {
   "cell_type": "code",
   "execution_count": null,
   "id": "91d94adc",
   "metadata": {},
   "outputs": [],
   "source": [
    "df"
   ]
  },
  {
   "cell_type": "code",
   "execution_count": null,
   "id": "19222724",
   "metadata": {},
   "outputs": [],
   "source": [
    "spending_df"
   ]
  },
  {
   "cell_type": "markdown",
   "id": "7283b332",
   "metadata": {},
   "source": [
    "<b>Data Cleaning Phase</b>"
   ]
  },
  {
   "cell_type": "code",
   "execution_count": null,
   "id": "2adca5c1",
   "metadata": {},
   "outputs": [],
   "source": [
    "\"\"\"Identifying unique descriptions in order to find only the income data\"\"\"\n",
    "print(df['Description'].unique())\n",
    "\n",
    "#collecting the relevant descriptions we want\n",
    "categories = df['Description'].unique()\n",
    "relevant_categories = [cat for cat in categories if (cat == '  Per capita personal income 6/') | \n",
    "                       (cat == '  Disposable personal income') | (cat == '  Personal income')\n",
    "                       | (cat == '  Per capita disposable personal income 7/')] \n",
    "print(relevant_categories)"
   ]
  },
  {
   "cell_type": "code",
   "execution_count": null,
   "id": "63d158d3",
   "metadata": {},
   "outputs": [],
   "source": [
    "\"\"\"Filtering out the irrelevant rows to get only rows with data on per capita income per state\"\"\"\n",
    "per_capita_income_df = df[df['Description'] == relevant_categories[-2]]"
   ]
  },
  {
   "cell_type": "code",
   "execution_count": null,
   "id": "9f3c4bbe",
   "metadata": {},
   "outputs": [],
   "source": [
    "per_capita_income_df"
   ]
  },
  {
   "cell_type": "markdown",
   "id": "35b2fa81",
   "metadata": {},
   "source": [
    "<b>Fixing the Description tags with string manipulation</b>"
   ]
  },
  {
   "cell_type": "code",
   "execution_count": null,
   "id": "23fa9916",
   "metadata": {},
   "outputs": [],
   "source": [
    "import re"
   ]
  },
  {
   "cell_type": "code",
   "execution_count": null,
   "id": "9578f2e1",
   "metadata": {},
   "outputs": [],
   "source": [
    "#regex to capture only alphanumerical strings \n",
    "pattern = re.compile(r'[a-z]+', flags=re.IGNORECASE)\n",
    "\n",
    "#capture alphanumerical strings in each description tag\n",
    "relevant_categories = list(map(lambda x: pattern.findall(x), relevant_categories))"
   ]
  },
  {
   "cell_type": "code",
   "execution_count": null,
   "id": "62ffa978",
   "metadata": {},
   "outputs": [],
   "source": [
    "print(list(relevant_categories))"
   ]
  },
  {
   "cell_type": "code",
   "execution_count": null,
   "id": "abfb7541",
   "metadata": {},
   "outputs": [],
   "source": [
    "#rebuild all the decription tags normalized\n",
    "relevant_categories = list(map(lambda x: \" \".join(x), relevant_categories))\n",
    "relevant_categories"
   ]
  },
  {
   "cell_type": "code",
   "execution_count": null,
   "id": "4bb24565",
   "metadata": {},
   "outputs": [],
   "source": [
    "#Get the description tag we want to focus on in our data frame\n",
    "per_capita_income_tag = relevant_categories[2]\n",
    "print(per_capita_income_tag)"
   ]
  },
  {
   "cell_type": "code",
   "execution_count": null,
   "id": "0f9ae298",
   "metadata": {},
   "outputs": [],
   "source": [
    "#re-assign the description tags to all the description in the original data frame\n",
    "per_capita_income_df.loc[:,'Description'] = [per_capita_income_tag] * 52"
   ]
  },
  {
   "cell_type": "markdown",
   "id": "9c04035a",
   "metadata": {},
   "source": [
    "<b>Map state names to state code and add them as a column</b>"
   ]
  },
  {
   "cell_type": "code",
   "execution_count": null,
   "id": "53edfb49",
   "metadata": {},
   "outputs": [],
   "source": [
    "per_capita_income_df = per_capita_income_df.replace({'GeoName' : {\n",
    "        'Alabama': 'AL', 'Alaska': 'AK', 'Arizona': 'AZ', 'Arkansas': 'AR', 'California': 'CA',\n",
    "        'Colorado': 'CO', 'Connecticut': 'CT', 'Delaware': 'DE', 'Florida': 'FL', 'Georgia': 'GA',\n",
    "        'Hawaii': 'HI', 'Idaho': 'ID', 'Illinois': 'IL', 'Indiana': 'IN', 'Iowa': 'IA', 'Kansas': 'KS',\n",
    "        'Kentucky': 'KY', 'Louisiana': 'LA', 'Maine': 'ME', 'Maryland': 'MD', 'Massachusetts': 'MA',\n",
    "        'Michigan': 'MI', 'Minnesota': 'MN', 'Mississippi': 'MS', 'Missouri': 'MO', 'Montana': 'MT',\n",
    "        'Nebraska': 'NE', 'Nevada': 'NV', 'New Hampshire': 'NH', 'New Jersey': 'NJ', 'New Mexico': 'NM',\n",
    "        'New York': 'NY', 'North Carolina': 'NC', 'North Dakota': 'ND', 'Ohio': 'OH', 'Oklahoma': 'OK',\n",
    "        'Oregon': 'OR', 'Pennsylvania': 'PA', 'Rhode Island': 'RI', 'South Carolina': 'SC', 'South Dakota': 'SD',\n",
    "        'Tennessee': 'TN', 'Texas': 'TX', 'Utah': 'UT', 'Vermont': 'VT', 'Virginia': 'VA', 'Washington': 'WA',\n",
    "        'West Virginia': 'WV', 'Wisconsin': 'WI', 'Wyoming': 'WY', 'District of Columbia': 'DC' \n",
    "        }})\n"
   ]
  },
  {
   "cell_type": "code",
   "execution_count": null,
   "id": "43250771",
   "metadata": {},
   "outputs": [],
   "source": [
    "#drop non_relevant columns\n",
    "per_capita_income_df = per_capita_income_df.drop(['GeoFips', 'LineCode', 'Description'], axis=1)"
   ]
  },
  {
   "cell_type": "code",
   "execution_count": null,
   "id": "73ec438f",
   "metadata": {},
   "outputs": [],
   "source": [
    "per_capita_income_df"
   ]
  },
  {
   "cell_type": "code",
   "execution_count": null,
   "id": "20075729",
   "metadata": {},
   "outputs": [],
   "source": [
    "#remove first row\n",
    "per_capita_income_df = per_capita_income_df[1:]"
   ]
  },
  {
   "cell_type": "code",
   "execution_count": null,
   "id": "bcb6afc1",
   "metadata": {},
   "outputs": [],
   "source": [
    "\n",
    "\n",
    "regions = spending_df[['GeoName', 'Region']]\n",
    "\n",
    "\n",
    "regions = regions.replace({'GeoName' : {\n",
    "        'Alabama': 'AL', 'Alaska': 'AK', 'Arizona': 'AZ', 'Arkansas': 'AR', 'California': 'CA',\n",
    "        'Colorado': 'CO', 'Connecticut': 'CT', 'Delaware': 'DE', 'Florida': 'FL', 'Georgia': 'GA',\n",
    "        'Hawaii': 'HI', 'Idaho': 'ID', 'Illinois': 'IL', 'Indiana': 'IN', 'Iowa': 'IA', 'Kansas': 'KS',\n",
    "        'Kentucky': 'KY', 'Louisiana': 'LA', 'Maine': 'ME', 'Maryland': 'MD', 'Massachusetts': 'MA',\n",
    "        'Michigan': 'MI', 'Minnesota': 'MN', 'Mississippi': 'MS', 'Missouri': 'MO', 'Montana': 'MT',\n",
    "        'Nebraska': 'NE', 'Nevada': 'NV', 'New Hampshire': 'NH', 'New Jersey': 'NJ', 'New Mexico': 'NM',\n",
    "        'New York': 'NY', 'North Carolina': 'NC', 'North Dakota': 'ND', 'Ohio': 'OH', 'Oklahoma': 'OK',\n",
    "        'Oregon': 'OR', 'Pennsylvania': 'PA', 'Rhode Island': 'RI', 'South Carolina': 'SC', 'South Dakota': 'SD',\n",
    "        'Tennessee': 'TN', 'Texas': 'TX', 'Utah': 'UT', 'Vermont': 'VT', 'Virginia': 'VA', 'Washington': 'WA',\n",
    "        'West Virginia': 'WV', 'Wisconsin': 'WI', 'Wyoming': 'WY', 'District of Columbia': 'DC' \n",
    "        }})\n"
   ]
  },
  {
   "cell_type": "code",
   "execution_count": null,
   "id": "03b6ef57",
   "metadata": {},
   "outputs": [],
   "source": [
    "#mapping state code to region code\n",
    "per_capita_income_df = pd.merge(per_capita_income_df, regions, left_on='GeoName', right_on='GeoName')\n",
    "per_capita_income_df.drop('GeoName', inplace=True)"
   ]
  },
  {
   "cell_type": "code",
   "execution_count": null,
   "id": "a016f48e",
   "metadata": {},
   "outputs": [],
   "source": [
    "\n",
    "per_capita_income_df.drop_duplicates()"
   ]
  },
  {
   "cell_type": "code",
   "execution_count": null,
   "id": "1431bb68",
   "metadata": {},
   "outputs": [],
   "source": [
    "regions"
   ]
  },
  {
   "cell_type": "code",
   "execution_count": null,
   "id": "93e604f9",
   "metadata": {},
   "outputs": [],
   "source": [
    "per_capita_income_df"
   ]
  },
  {
   "cell_type": "code",
   "execution_count": null,
   "id": "7419112b",
   "metadata": {},
   "outputs": [],
   "source": [
    "per_capita_income_df = per_capita_income_df.groupby('Region').mean()"
   ]
  },
  {
   "cell_type": "code",
   "execution_count": 2,
   "id": "f11efe53",
   "metadata": {},
   "outputs": [
    {
     "ename": "NameError",
     "evalue": "name 'per_capita_income_df' is not defined",
     "output_type": "error",
     "traceback": [
      "\u001b[0;31m---------------------------------------------------------------------------\u001b[0m",
      "\u001b[0;31mNameError\u001b[0m                                 Traceback (most recent call last)",
      "\u001b[0;32m/tmp/ipykernel_4150/4174852062.py\u001b[0m in \u001b[0;36m<module>\u001b[0;34m\u001b[0m\n\u001b[0;32m----> 1\u001b[0;31m \u001b[0mper_capita_income_df\u001b[0m\u001b[0;34m\u001b[0m\u001b[0;34m\u001b[0m\u001b[0m\n\u001b[0m",
      "\u001b[0;31mNameError\u001b[0m: name 'per_capita_income_df' is not defined"
     ]
    }
   ],
   "source": [
    "per_capita_income_df"
   ]
  },
  {
   "cell_type": "code",
   "execution_count": null,
   "id": "5ab41eda",
   "metadata": {},
   "outputs": [],
   "source": []
  }
 ],
 "metadata": {
  "kernelspec": {
   "display_name": "Python 3 (ipykernel)",
   "language": "python",
   "name": "python3"
  },
  "language_info": {
   "codemirror_mode": {
    "name": "ipython",
    "version": 3
   },
   "file_extension": ".py",
   "mimetype": "text/x-python",
   "name": "python",
   "nbconvert_exporter": "python",
   "pygments_lexer": "ipython3",
   "version": "3.9.13"
  }
 },
 "nbformat": 4,
 "nbformat_minor": 5
}
