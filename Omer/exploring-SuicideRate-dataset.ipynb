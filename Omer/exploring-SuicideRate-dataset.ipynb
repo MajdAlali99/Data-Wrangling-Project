{
 "cells": [
  {
   "cell_type": "code",
   "execution_count": 13,
   "metadata": {},
   "outputs": [],
   "source": [
    "import pandas as pd\n",
    "import matplotlib.pyplot as plt"
   ]
  },
  {
   "cell_type": "code",
   "execution_count": 14,
   "metadata": {},
   "outputs": [],
   "source": [
    "suicide = pd.read_csv('../datasets/Suicide-rate.csv')"
   ]
  },
  {
   "cell_type": "code",
   "execution_count": 22,
   "metadata": {},
   "outputs": [
    {
     "data": {
      "text/html": [
       "<div>\n",
       "<style scoped>\n",
       "    .dataframe tbody tr th:only-of-type {\n",
       "        vertical-align: middle;\n",
       "    }\n",
       "\n",
       "    .dataframe tbody tr th {\n",
       "        vertical-align: top;\n",
       "    }\n",
       "\n",
       "    .dataframe thead th {\n",
       "        text-align: right;\n",
       "    }\n",
       "</style>\n",
       "<table border=\"1\" class=\"dataframe\">\n",
       "  <thead>\n",
       "    <tr style=\"text-align: right;\">\n",
       "      <th></th>\n",
       "      <th>YEAR</th>\n",
       "      <th>STATE</th>\n",
       "      <th>RATE</th>\n",
       "      <th>DEATHS</th>\n",
       "      <th>URL</th>\n",
       "      <th>REGION</th>\n",
       "    </tr>\n",
       "  </thead>\n",
       "  <tbody>\n",
       "    <tr>\n",
       "      <th>0</th>\n",
       "      <td>2020</td>\n",
       "      <td>AL</td>\n",
       "      <td>16.0</td>\n",
       "      <td>793</td>\n",
       "      <td>/nchs/pressroom/states/alabama/al.htm</td>\n",
       "      <td>NaN</td>\n",
       "    </tr>\n",
       "    <tr>\n",
       "      <th>1</th>\n",
       "      <td>2020</td>\n",
       "      <td>AK</td>\n",
       "      <td>27.5</td>\n",
       "      <td>204</td>\n",
       "      <td>/nchs/pressroom/states/alaska/ak.htm</td>\n",
       "      <td>NaN</td>\n",
       "    </tr>\n",
       "    <tr>\n",
       "      <th>2</th>\n",
       "      <td>2020</td>\n",
       "      <td>AZ</td>\n",
       "      <td>17.6</td>\n",
       "      <td>1363</td>\n",
       "      <td>/nchs/pressroom/states/arizona/az.htm</td>\n",
       "      <td>NaN</td>\n",
       "    </tr>\n",
       "    <tr>\n",
       "      <th>3</th>\n",
       "      <td>2020</td>\n",
       "      <td>AR</td>\n",
       "      <td>19.0</td>\n",
       "      <td>583</td>\n",
       "      <td>/nchs/pressroom/states/arkansas/ar.htm</td>\n",
       "      <td>NaN</td>\n",
       "    </tr>\n",
       "    <tr>\n",
       "      <th>4</th>\n",
       "      <td>2020</td>\n",
       "      <td>CA</td>\n",
       "      <td>10.0</td>\n",
       "      <td>4144</td>\n",
       "      <td>/nchs/pressroom/states/california/ca.htm</td>\n",
       "      <td>NaN</td>\n",
       "    </tr>\n",
       "    <tr>\n",
       "      <th>...</th>\n",
       "      <td>...</td>\n",
       "      <td>...</td>\n",
       "      <td>...</td>\n",
       "      <td>...</td>\n",
       "      <td>...</td>\n",
       "      <td>...</td>\n",
       "    </tr>\n",
       "    <tr>\n",
       "      <th>395</th>\n",
       "      <td>2005</td>\n",
       "      <td>VA</td>\n",
       "      <td>11.2</td>\n",
       "      <td>866</td>\n",
       "      <td>/nchs/pressroom/states/virginia/virginia.htm</td>\n",
       "      <td>NaN</td>\n",
       "    </tr>\n",
       "    <tr>\n",
       "      <th>396</th>\n",
       "      <td>2005</td>\n",
       "      <td>WA</td>\n",
       "      <td>12.8</td>\n",
       "      <td>822</td>\n",
       "      <td>/nchs/pressroom/states/washington/washington.htm</td>\n",
       "      <td>NaN</td>\n",
       "    </tr>\n",
       "    <tr>\n",
       "      <th>397</th>\n",
       "      <td>2005</td>\n",
       "      <td>WV</td>\n",
       "      <td>13.2</td>\n",
       "      <td>255</td>\n",
       "      <td>/nchs/pressroom/states/westvirginia/westvirgin...</td>\n",
       "      <td>NaN</td>\n",
       "    </tr>\n",
       "    <tr>\n",
       "      <th>398</th>\n",
       "      <td>2005</td>\n",
       "      <td>WI</td>\n",
       "      <td>11.6</td>\n",
       "      <td>643</td>\n",
       "      <td>/nchs/pressroom/states/wisconsin/wisconsin.htm</td>\n",
       "      <td>NaN</td>\n",
       "    </tr>\n",
       "    <tr>\n",
       "      <th>399</th>\n",
       "      <td>2005</td>\n",
       "      <td>WY</td>\n",
       "      <td>17.3</td>\n",
       "      <td>90</td>\n",
       "      <td>/nchs/pressroom/states/wyoming/wyoming.htm</td>\n",
       "      <td>NaN</td>\n",
       "    </tr>\n",
       "  </tbody>\n",
       "</table>\n",
       "<p>400 rows × 6 columns</p>\n",
       "</div>"
      ],
      "text/plain": [
       "     YEAR STATE  RATE DEATHS  \\\n",
       "0    2020    AL  16.0    793   \n",
       "1    2020    AK  27.5    204   \n",
       "2    2020    AZ  17.6   1363   \n",
       "3    2020    AR  19.0    583   \n",
       "4    2020    CA  10.0   4144   \n",
       "..    ...   ...   ...    ...   \n",
       "395  2005    VA  11.2    866   \n",
       "396  2005    WA  12.8    822   \n",
       "397  2005    WV  13.2    255   \n",
       "398  2005    WI  11.6    643   \n",
       "399  2005    WY  17.3     90   \n",
       "\n",
       "                                                   URL REGION  \n",
       "0                /nchs/pressroom/states/alabama/al.htm    NaN  \n",
       "1                 /nchs/pressroom/states/alaska/ak.htm    NaN  \n",
       "2                /nchs/pressroom/states/arizona/az.htm    NaN  \n",
       "3               /nchs/pressroom/states/arkansas/ar.htm    NaN  \n",
       "4             /nchs/pressroom/states/california/ca.htm    NaN  \n",
       "..                                                 ...    ...  \n",
       "395       /nchs/pressroom/states/virginia/virginia.htm    NaN  \n",
       "396   /nchs/pressroom/states/washington/washington.htm    NaN  \n",
       "397  /nchs/pressroom/states/westvirginia/westvirgin...    NaN  \n",
       "398     /nchs/pressroom/states/wisconsin/wisconsin.htm    NaN  \n",
       "399         /nchs/pressroom/states/wyoming/wyoming.htm    NaN  \n",
       "\n",
       "[400 rows x 6 columns]"
      ]
     },
     "execution_count": 22,
     "metadata": {},
     "output_type": "execute_result"
    }
   ],
   "source": [
    "suicide"
   ]
  },
  {
   "cell_type": "code",
   "execution_count": 43,
   "metadata": {},
   "outputs": [
    {
     "data": {
      "image/png": "[encoded data removed]",
      "text/plain": [
       "<Figure size 432x288 with 1 Axes>"
      ]
     },
     "metadata": {
      "needs_background": "light"
     },
     "output_type": "display_data"
    }
   ],
   "source": [
    "regions = {\n",
    "    'AL': 'South',\n",
    "    'AK': 'West',\n",
    "    'AZ': 'West',\n",
    "    'AR': 'South',\n",
    "    'CA': 'West',\n",
    "    'CO': 'West',\n",
    "    'CT': 'Northeast',\n",
    "    'DE': 'Mid-Atlantic',\n",
    "    'DC': 'Mid-Atlantic',\n",
    "    'FL': 'South',\n",
    "    'GA': 'South',\n",
    "    'HI': 'West',\n",
    "    'ID': 'West',\n",
    "    'IL': 'Midwest',\n",
    "    'IN': 'Midwest',\n",
    "    'IA': 'Midwest',\n",
    "    'KS': 'Midwest',\n",
    "    'KY': 'South',\n",
    "    'LA': 'South',\n",
    "    'ME': 'Northeast',\n",
    "    'MD': 'Mid-Atlantic',\n",
    "    'MA': 'Northeast',\n",
    "    'MI': 'Midwest',\n",
    "    'MN': 'Midwest',\n",
    "    'MS': 'South',\n",
    "    'MO': 'Midwest',\n",
    "    'MT': 'West',\n",
    "    'NE': 'Midwest',\n",
    "    'NV': 'West',\n",
    "    'NH': 'Northeast',\n",
    "    'NJ': 'Mid-Atlantic',\n",
    "    'NM': 'West',\n",
    "    'NY': 'Northeast',\n",
    "    'NC': 'South',\n",
    "    'ND': 'Midwest',\n",
    "    'OH': 'Midwest',\n",
    "    'OK': 'South',\n",
    "    'OR': 'West',\n",
    "    'PA': 'Mid-Atlantic',\n",
    "    'RI': 'Northeast',\n",
    "    'SC': 'South',\n",
    "    'SD': 'Midwest',\n",
    "    'TN': 'South',\n",
    "    'TX': 'South',\n",
    "    'UT': 'West',\n",
    "    'VT': 'Northeast',\n",
    "    'VA': 'South',\n",
    "    'WA': 'West',\n",
    "    'WV': 'Mid-Atlantic',\n",
    "    'WI': 'Midwest',\n",
    "    'WY': 'West'\n",
    "}\n",
    "\n",
    "# Create a new column in the dataframe that indicates the region of each state\n",
    "suicide['REGION'] = suicide['STATE'].map(regions)\n",
    "\n",
    "# # Group the data by year and region, and unstack the region column\n",
    "suicide_by_region = suicide.groupby(['YEAR', 'REGION']).sum().unstack(1)\n",
    "\n",
    "# Plot the data\n",
    "suicide_by_region.plot(kind='bar', stacked=True)\n",
    "plt.show()"
   ]
  },
  {
   "cell_type": "code",
   "execution_count": 39,
   "metadata": {},
   "outputs": [
    {
     "data": {
      "text/plain": [
       "(2005.0, 2020.0)"
      ]
     },
     "execution_count": 39,
     "metadata": {},
     "output_type": "execute_result"
    },
    {
     "data": {
      "image/png": "[encoded data removed]",
      "text/plain": [
       "<Figure size 864x432 with 1 Axes>"
      ]
     },
     "metadata": {
      "needs_background": "light"
     },
     "output_type": "display_data"
    }
   ],
   "source": [
    "# That plot shows suicide rate changes per region between 2005 until 2020\n",
    "plt.figure(figsize=(12,6))\n",
    "plt.plot(suicide_by_region)\n",
    "plt.xlim(2005, 2020)"
   ]
  },
  {
   "cell_type": "code",
   "execution_count": 42,
   "metadata": {},
   "outputs": [
    {
     "data": {
      "image/png": "[encoded data removed]",
      "text/plain": [
       "<Figure size 864x432 with 2 Axes>"
      ]
     },
     "metadata": {
      "needs_background": "light"
     },
     "output_type": "display_data"
    }
   ],
   "source": [
    "import seaborn as sns\n",
    "plt.figure(figsize=(12, 6))\n",
    "sns.heatmap(suicide.groupby(['YEAR', 'REGION']).sum().unstack(1), cmap='YlGnBu')\n",
    "plt.show()"
   ]
  },
  {
   "cell_type": "code",
   "execution_count": null,
   "metadata": {},
   "outputs": [],
   "source": []
  }
 ],
 "metadata": {
  "kernelspec": {
   "display_name": "Python 3",
   "language": "python",
   "name": "python3"
  },
  "language_info": {
   "codemirror_mode": {
    "name": "ipython",
    "version": 3
   },
   "file_extension": ".py",
   "mimetype": "text/x-python",
   "name": "python",
   "nbconvert_exporter": "python",
   "pygments_lexer": "ipython3",
   "version": "3.8.5"
  }
 },
 "nbformat": 4,
 "nbformat_minor": 5
}
